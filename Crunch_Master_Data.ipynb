{
  "nbformat": 4,
  "nbformat_minor": 0,
  "metadata": {
    "colab": {
      "provenance": [],
      "authorship_tag": "ABX9TyNCGZA0ttT4oeNHDXF6m4uu",
      "include_colab_link": true
    },
    "kernelspec": {
      "name": "python3",
      "display_name": "Python 3"
    },
    "language_info": {
      "name": "python"
    },
    "gpuClass": "standard"
  },
  "cells": [
    {
      "cell_type": "markdown",
      "metadata": {
        "id": "view-in-github",
        "colab_type": "text"
      },
      "source": [
        "<a href=\"https://colab.research.google.com/github/nasirudeenraheem/CrunchoDao-Master-data-Notebook/blob/main/Crunch_Master_Data.ipynb\" target=\"_parent\"><img src=\"https://colab.research.google.com/assets/colab-badge.svg\" alt=\"Open In Colab\"/></a>"
      ]
    },
    {
      "cell_type": "markdown",
      "source": [
        "## CrunchDao\n",
        "\n",
        "CrunchDAO is a data science competition platform for data scientists to learn, improve their modeling skills, and earn on a weekend basis. They run a series of datasets made of financial datasets.\n",
        "\n",
        "The CrunchDAO is a group of engineers, finance geeks, former Wall Street analysts, and finance teachers interested in modern economics’ underlying dynamics.\n",
        "\n",
        "CrunchDAO is a research team leveraging the power of collective intelligence and Web3 to produce next-generation financial predictions.\n",
        "\n",
        "Read More - https://nasere4567.medium.com/the-crunchdao-machine-learning-competition-be86cfb1b81f"
      ],
      "metadata": {
        "id": "UKKOrLdIdod3"
      }
    },
    {
      "cell_type": "markdown",
      "source": [
        "## Outline\n",
        "\n",
        "1. Load the data\n",
        "\n",
        "2. Investigate the data\n",
        "\n",
        "3. Data Visualization and Correlation Analysis\n",
        "\n",
        "4. Validation Scheme\n",
        "\n",
        "5. Machine Learning Model\n",
        "\n",
        "6. Submit Prediction."
      ],
      "metadata": {
        "id": "yPD96LjUeM1d"
      }
    },
    {
      "cell_type": "markdown",
      "source": [
        "## Load the data"
      ],
      "metadata": {
        "id": "gH_slfxkfe9Z"
      }
    },
    {
      "cell_type": "code",
      "execution_count": 1,
      "metadata": {
        "id": "xPec4bMZyhwl"
      },
      "outputs": [],
      "source": [
        "import pandas as pd\n",
        "import numpy as np\n",
        "import seaborn as sns\n",
        "import matplotlib.pyplot as plt\n",
        "%matplotlib inline\n",
        "\n",
        "from sklearn.model_selection import train_test_split\n",
        "from sklearn.metrics import accuracy_score\n",
        "import requests\n",
        "from scipy import stats\n",
        "\n",
        "from lightgbm import LGBMRegressor\n",
        "from sklearn.linear_model import Ridge\n",
        "import scipy"
      ]
    },
    {
      "cell_type": "code",
      "source": [
        "train = pd.read_csv(\"https://tournament.crunchdao.com/data/X_train.csv\")\n",
        "train_targets = pd.read_csv(\"https://tournament.crunchdao.com/data/y_train.csv\")\n",
        "test = pd.read_csv(\"https://tournament.crunchdao.com/data/X_test.csv\")"
      ],
      "metadata": {
        "id": "sKhS612iyprg"
      },
      "execution_count": 2,
      "outputs": []
    },
    {
      "cell_type": "markdown",
      "source": [
        "## Investigate the data"
      ],
      "metadata": {
        "id": "Odvg-pZozRuw"
      }
    },
    {
      "cell_type": "code",
      "source": [
        "print(train.shape)\n",
        "print(train_targets.shape)\n",
        "print(test.shape)"
      ],
      "metadata": {
        "colab": {
          "base_uri": "https://localhost:8080/"
        },
        "id": "cp7jvER6yxdN",
        "outputId": "db2015f8-044b-4c1c-ee95-8812d3b59cbb"
      },
      "execution_count": 3,
      "outputs": [
        {
          "output_type": "stream",
          "name": "stdout",
          "text": [
            "(307618, 618)\n",
            "(307618, 6)\n",
            "(10662, 618)\n"
          ]
        }
      ]
    },
    {
      "cell_type": "code",
      "source": [
        "train.head()"
      ],
      "metadata": {
        "colab": {
          "base_uri": "https://localhost:8080/",
          "height": 300
        },
        "id": "_1K0R2GbzaH0",
        "outputId": "4a7ab8a5-18ce-4233-ab28-8924e81c5f95"
      },
      "execution_count": 4,
      "outputs": [
        {
          "output_type": "execute_result",
          "data": {
            "text/plain": [
              "       id  Moons  wrythm_Feature_1  wrythm_Feature_2  wrythm_Feature_3  \\\n",
              "0  152637      0              0.83              0.67              1.00   \n",
              "1  135698      0              0.50              0.50              0.17   \n",
              "2  135696      0              0.67              0.67              0.33   \n",
              "3  231707      0              0.33              0.83              0.17   \n",
              "4   22688      0              0.33              1.00              0.33   \n",
              "\n",
              "   wrythm_Feature_4  wrythm_Feature_5  wrythm_Feature_6  wrythm_Feature_7  \\\n",
              "0              0.67              0.33              0.50              0.17   \n",
              "1              0.17              0.33              0.33              0.50   \n",
              "2              0.33              0.33              0.67              0.50   \n",
              "3              0.33              0.17              0.00              1.00   \n",
              "4              0.50              0.50              0.67              0.67   \n",
              "\n",
              "   wrythm_Feature_8  ...  vratios_Feature_108  vratios_Feature_109  \\\n",
              "0              0.17  ...                 0.17                 0.33   \n",
              "1              0.50  ...                 1.00                 1.00   \n",
              "2              0.50  ...                 0.33                 0.00   \n",
              "3              0.50  ...                 1.00                 1.00   \n",
              "4              0.50  ...                 0.33                 0.17   \n",
              "\n",
              "   vratios_Feature_110  vratios_Feature_111  vratios_Feature_112  \\\n",
              "0                 0.67                 0.83                 0.83   \n",
              "1                 0.67                 0.33                 0.50   \n",
              "2                 0.83                 0.33                 0.33   \n",
              "3                 0.83                 0.17                 0.17   \n",
              "4                 0.50                 0.33                 0.17   \n",
              "\n",
              "   vratios_Feature_113  vratios_Feature_114  vratios_Feature_115  \\\n",
              "0                 0.67                 0.50                 0.50   \n",
              "1                 0.50                 0.83                 0.83   \n",
              "2                 0.50                 0.50                 0.17   \n",
              "3                 0.17                 0.67                 0.67   \n",
              "4                 0.17                 0.17                 0.33   \n",
              "\n",
              "   vratios_Feature_116  vratios_Feature_117  \n",
              "0                 0.50                 0.67  \n",
              "1                 0.33                 0.67  \n",
              "2                 0.33                 0.50  \n",
              "3                 0.00                 0.83  \n",
              "4                 0.50                 0.67  \n",
              "\n",
              "[5 rows x 618 columns]"
            ],
            "text/html": [
              "\n",
              "  <div id=\"df-2b7a6586-8e16-4114-be86-786adf913dd7\">\n",
              "    <div class=\"colab-df-container\">\n",
              "      <div>\n",
              "<style scoped>\n",
              "    .dataframe tbody tr th:only-of-type {\n",
              "        vertical-align: middle;\n",
              "    }\n",
              "\n",
              "    .dataframe tbody tr th {\n",
              "        vertical-align: top;\n",
              "    }\n",
              "\n",
              "    .dataframe thead th {\n",
              "        text-align: right;\n",
              "    }\n",
              "</style>\n",
              "<table border=\"1\" class=\"dataframe\">\n",
              "  <thead>\n",
              "    <tr style=\"text-align: right;\">\n",
              "      <th></th>\n",
              "      <th>id</th>\n",
              "      <th>Moons</th>\n",
              "      <th>wrythm_Feature_1</th>\n",
              "      <th>wrythm_Feature_2</th>\n",
              "      <th>wrythm_Feature_3</th>\n",
              "      <th>wrythm_Feature_4</th>\n",
              "      <th>wrythm_Feature_5</th>\n",
              "      <th>wrythm_Feature_6</th>\n",
              "      <th>wrythm_Feature_7</th>\n",
              "      <th>wrythm_Feature_8</th>\n",
              "      <th>...</th>\n",
              "      <th>vratios_Feature_108</th>\n",
              "      <th>vratios_Feature_109</th>\n",
              "      <th>vratios_Feature_110</th>\n",
              "      <th>vratios_Feature_111</th>\n",
              "      <th>vratios_Feature_112</th>\n",
              "      <th>vratios_Feature_113</th>\n",
              "      <th>vratios_Feature_114</th>\n",
              "      <th>vratios_Feature_115</th>\n",
              "      <th>vratios_Feature_116</th>\n",
              "      <th>vratios_Feature_117</th>\n",
              "    </tr>\n",
              "  </thead>\n",
              "  <tbody>\n",
              "    <tr>\n",
              "      <th>0</th>\n",
              "      <td>152637</td>\n",
              "      <td>0</td>\n",
              "      <td>0.83</td>\n",
              "      <td>0.67</td>\n",
              "      <td>1.00</td>\n",
              "      <td>0.67</td>\n",
              "      <td>0.33</td>\n",
              "      <td>0.50</td>\n",
              "      <td>0.17</td>\n",
              "      <td>0.17</td>\n",
              "      <td>...</td>\n",
              "      <td>0.17</td>\n",
              "      <td>0.33</td>\n",
              "      <td>0.67</td>\n",
              "      <td>0.83</td>\n",
              "      <td>0.83</td>\n",
              "      <td>0.67</td>\n",
              "      <td>0.50</td>\n",
              "      <td>0.50</td>\n",
              "      <td>0.50</td>\n",
              "      <td>0.67</td>\n",
              "    </tr>\n",
              "    <tr>\n",
              "      <th>1</th>\n",
              "      <td>135698</td>\n",
              "      <td>0</td>\n",
              "      <td>0.50</td>\n",
              "      <td>0.50</td>\n",
              "      <td>0.17</td>\n",
              "      <td>0.17</td>\n",
              "      <td>0.33</td>\n",
              "      <td>0.33</td>\n",
              "      <td>0.50</td>\n",
              "      <td>0.50</td>\n",
              "      <td>...</td>\n",
              "      <td>1.00</td>\n",
              "      <td>1.00</td>\n",
              "      <td>0.67</td>\n",
              "      <td>0.33</td>\n",
              "      <td>0.50</td>\n",
              "      <td>0.50</td>\n",
              "      <td>0.83</td>\n",
              "      <td>0.83</td>\n",
              "      <td>0.33</td>\n",
              "      <td>0.67</td>\n",
              "    </tr>\n",
              "    <tr>\n",
              "      <th>2</th>\n",
              "      <td>135696</td>\n",
              "      <td>0</td>\n",
              "      <td>0.67</td>\n",
              "      <td>0.67</td>\n",
              "      <td>0.33</td>\n",
              "      <td>0.33</td>\n",
              "      <td>0.33</td>\n",
              "      <td>0.67</td>\n",
              "      <td>0.50</td>\n",
              "      <td>0.50</td>\n",
              "      <td>...</td>\n",
              "      <td>0.33</td>\n",
              "      <td>0.00</td>\n",
              "      <td>0.83</td>\n",
              "      <td>0.33</td>\n",
              "      <td>0.33</td>\n",
              "      <td>0.50</td>\n",
              "      <td>0.50</td>\n",
              "      <td>0.17</td>\n",
              "      <td>0.33</td>\n",
              "      <td>0.50</td>\n",
              "    </tr>\n",
              "    <tr>\n",
              "      <th>3</th>\n",
              "      <td>231707</td>\n",
              "      <td>0</td>\n",
              "      <td>0.33</td>\n",
              "      <td>0.83</td>\n",
              "      <td>0.17</td>\n",
              "      <td>0.33</td>\n",
              "      <td>0.17</td>\n",
              "      <td>0.00</td>\n",
              "      <td>1.00</td>\n",
              "      <td>0.50</td>\n",
              "      <td>...</td>\n",
              "      <td>1.00</td>\n",
              "      <td>1.00</td>\n",
              "      <td>0.83</td>\n",
              "      <td>0.17</td>\n",
              "      <td>0.17</td>\n",
              "      <td>0.17</td>\n",
              "      <td>0.67</td>\n",
              "      <td>0.67</td>\n",
              "      <td>0.00</td>\n",
              "      <td>0.83</td>\n",
              "    </tr>\n",
              "    <tr>\n",
              "      <th>4</th>\n",
              "      <td>22688</td>\n",
              "      <td>0</td>\n",
              "      <td>0.33</td>\n",
              "      <td>1.00</td>\n",
              "      <td>0.33</td>\n",
              "      <td>0.50</td>\n",
              "      <td>0.50</td>\n",
              "      <td>0.67</td>\n",
              "      <td>0.67</td>\n",
              "      <td>0.50</td>\n",
              "      <td>...</td>\n",
              "      <td>0.33</td>\n",
              "      <td>0.17</td>\n",
              "      <td>0.50</td>\n",
              "      <td>0.33</td>\n",
              "      <td>0.17</td>\n",
              "      <td>0.17</td>\n",
              "      <td>0.17</td>\n",
              "      <td>0.33</td>\n",
              "      <td>0.50</td>\n",
              "      <td>0.67</td>\n",
              "    </tr>\n",
              "  </tbody>\n",
              "</table>\n",
              "<p>5 rows × 618 columns</p>\n",
              "</div>\n",
              "      <button class=\"colab-df-convert\" onclick=\"convertToInteractive('df-2b7a6586-8e16-4114-be86-786adf913dd7')\"\n",
              "              title=\"Convert this dataframe to an interactive table.\"\n",
              "              style=\"display:none;\">\n",
              "        \n",
              "  <svg xmlns=\"http://www.w3.org/2000/svg\" height=\"24px\"viewBox=\"0 0 24 24\"\n",
              "       width=\"24px\">\n",
              "    <path d=\"M0 0h24v24H0V0z\" fill=\"none\"/>\n",
              "    <path d=\"M18.56 5.44l.94 2.06.94-2.06 2.06-.94-2.06-.94-.94-2.06-.94 2.06-2.06.94zm-11 1L8.5 8.5l.94-2.06 2.06-.94-2.06-.94L8.5 2.5l-.94 2.06-2.06.94zm10 10l.94 2.06.94-2.06 2.06-.94-2.06-.94-.94-2.06-.94 2.06-2.06.94z\"/><path d=\"M17.41 7.96l-1.37-1.37c-.4-.4-.92-.59-1.43-.59-.52 0-1.04.2-1.43.59L10.3 9.45l-7.72 7.72c-.78.78-.78 2.05 0 2.83L4 21.41c.39.39.9.59 1.41.59.51 0 1.02-.2 1.41-.59l7.78-7.78 2.81-2.81c.8-.78.8-2.07 0-2.86zM5.41 20L4 18.59l7.72-7.72 1.47 1.35L5.41 20z\"/>\n",
              "  </svg>\n",
              "      </button>\n",
              "      \n",
              "  <style>\n",
              "    .colab-df-container {\n",
              "      display:flex;\n",
              "      flex-wrap:wrap;\n",
              "      gap: 12px;\n",
              "    }\n",
              "\n",
              "    .colab-df-convert {\n",
              "      background-color: #E8F0FE;\n",
              "      border: none;\n",
              "      border-radius: 50%;\n",
              "      cursor: pointer;\n",
              "      display: none;\n",
              "      fill: #1967D2;\n",
              "      height: 32px;\n",
              "      padding: 0 0 0 0;\n",
              "      width: 32px;\n",
              "    }\n",
              "\n",
              "    .colab-df-convert:hover {\n",
              "      background-color: #E2EBFA;\n",
              "      box-shadow: 0px 1px 2px rgba(60, 64, 67, 0.3), 0px 1px 3px 1px rgba(60, 64, 67, 0.15);\n",
              "      fill: #174EA6;\n",
              "    }\n",
              "\n",
              "    [theme=dark] .colab-df-convert {\n",
              "      background-color: #3B4455;\n",
              "      fill: #D2E3FC;\n",
              "    }\n",
              "\n",
              "    [theme=dark] .colab-df-convert:hover {\n",
              "      background-color: #434B5C;\n",
              "      box-shadow: 0px 1px 3px 1px rgba(0, 0, 0, 0.15);\n",
              "      filter: drop-shadow(0px 1px 2px rgba(0, 0, 0, 0.3));\n",
              "      fill: #FFFFFF;\n",
              "    }\n",
              "  </style>\n",
              "\n",
              "      <script>\n",
              "        const buttonEl =\n",
              "          document.querySelector('#df-2b7a6586-8e16-4114-be86-786adf913dd7 button.colab-df-convert');\n",
              "        buttonEl.style.display =\n",
              "          google.colab.kernel.accessAllowed ? 'block' : 'none';\n",
              "\n",
              "        async function convertToInteractive(key) {\n",
              "          const element = document.querySelector('#df-2b7a6586-8e16-4114-be86-786adf913dd7');\n",
              "          const dataTable =\n",
              "            await google.colab.kernel.invokeFunction('convertToInteractive',\n",
              "                                                     [key], {});\n",
              "          if (!dataTable) return;\n",
              "\n",
              "          const docLinkHtml = 'Like what you see? Visit the ' +\n",
              "            '<a target=\"_blank\" href=https://colab.research.google.com/notebooks/data_table.ipynb>data table notebook</a>'\n",
              "            + ' to learn more about interactive tables.';\n",
              "          element.innerHTML = '';\n",
              "          dataTable['output_type'] = 'display_data';\n",
              "          await google.colab.output.renderOutput(dataTable, element);\n",
              "          const docLink = document.createElement('div');\n",
              "          docLink.innerHTML = docLinkHtml;\n",
              "          element.appendChild(docLink);\n",
              "        }\n",
              "      </script>\n",
              "    </div>\n",
              "  </div>\n",
              "  "
            ]
          },
          "metadata": {},
          "execution_count": 4
        }
      ]
    },
    {
      "cell_type": "markdown",
      "source": [
        "#### check missing values"
      ],
      "metadata": {
        "id": "_EAmXIB84HxP"
      }
    },
    {
      "cell_type": "code",
      "source": [
        "print(train.columns[train.isnull().any()])\n",
        "print(test.columns[test.isnull().any()])"
      ],
      "metadata": {
        "colab": {
          "base_uri": "https://localhost:8080/"
        },
        "id": "07Iya5UBzd89",
        "outputId": "1460a58b-301e-41ff-cc73-2c13ad019cef"
      },
      "execution_count": 5,
      "outputs": [
        {
          "output_type": "stream",
          "name": "stdout",
          "text": [
            "Index([], dtype='object')\n",
            "Index([], dtype='object')\n"
          ]
        }
      ]
    },
    {
      "cell_type": "markdown",
      "source": [
        "#### check duplicate values"
      ],
      "metadata": {
        "id": "l1d9DXcpCfnB"
      }
    },
    {
      "cell_type": "code",
      "source": [
        "train[train.duplicated()]"
      ],
      "metadata": {
        "colab": {
          "base_uri": "https://localhost:8080/",
          "height": 143
        },
        "id": "Cix7_Ga_Ch4Y",
        "outputId": "37b16610-bd43-49a1-d84b-9e3a6bd085e9"
      },
      "execution_count": 6,
      "outputs": [
        {
          "output_type": "execute_result",
          "data": {
            "text/plain": [
              "Empty DataFrame\n",
              "Columns: [id, Moons, wrythm_Feature_1, wrythm_Feature_2, wrythm_Feature_3, wrythm_Feature_4, wrythm_Feature_5, wrythm_Feature_6, wrythm_Feature_7, wrythm_Feature_8, wrythm_Feature_9, wrythm_Feature_10, wrythm_Feature_11, wrythm_Feature_12, wrythm_Feature_13, wrythm_Feature_14, wrythm_Feature_15, wrythm_Feature_16, wrythm_Feature_17, wrythm_Feature_18, wrythm_Feature_19, wrythm_Feature_20, wrythm_Feature_21, wrythm_Feature_22, wrythm_Feature_23, wrythm_Feature_24, wrythm_Feature_25, wrythm_Feature_26, wrythm_Feature_27, wrythm_Feature_28, wrythm_Feature_29, wrythm_Feature_30, wrythm_Feature_31, wrythm_Feature_32, wrythm_Feature_33, wrythm_Feature_34, wrythm_Feature_35, wrythm_Feature_36, wrythm_Feature_37, wrythm_Feature_38, wrythm_Feature_39, wrythm_Feature_40, wrythm_Feature_41, wrythm_Feature_42, wrythm_Feature_43, wrythm_Feature_44, wrythm_Feature_45, wrythm_Feature_46, wrythm_Feature_47, wrythm_Feature_48, wrythm_Feature_49, wrythm_Feature_50, wrythm_Feature_51, wrythm_Feature_52, wrythm_Feature_53, wrythm_Feature_54, wrythm_Feature_55, wrythm_Feature_56, wrythm_Feature_57, wrythm_Feature_58, wrythm_Feature_59, wrythm_Feature_60, wrythm_Feature_61, wrythm_Feature_62, wrythm_Feature_63, wrythm_Feature_64, wrythm_Feature_65, wrythm_Feature_66, wrythm_Feature_67, wrythm_Feature_68, wrythm_Feature_69, wrythm_Feature_70, wrythm_Feature_71, wrythm_Feature_72, wrythm_Feature_73, wrythm_Feature_74, wrythm_Feature_75, wrythm_Feature_76, wrythm_Feature_77, wrythm_Feature_78, wrythm_Feature_79, wrythm_Feature_80, wrythm_Feature_81, wrythm_Feature_82, wrythm_Feature_83, wrythm_Feature_84, wrythm_Feature_85, wrythm_Feature_86, wrythm_Feature_87, wrythm_Feature_88, wrythm_Feature_89, wrythm_Feature_90, wrythm_Feature_91, wrythm_Feature_92, wrythm_Feature_93, wrythm_Feature_94, wrythm_Feature_95, wrythm_Feature_96, wrythm_Feature_97, wrythm_Feature_98, ...]\n",
              "Index: []\n",
              "\n",
              "[0 rows x 618 columns]"
            ],
            "text/html": [
              "\n",
              "  <div id=\"df-db814bd5-c193-4985-a7b6-b44d5749170b\">\n",
              "    <div class=\"colab-df-container\">\n",
              "      <div>\n",
              "<style scoped>\n",
              "    .dataframe tbody tr th:only-of-type {\n",
              "        vertical-align: middle;\n",
              "    }\n",
              "\n",
              "    .dataframe tbody tr th {\n",
              "        vertical-align: top;\n",
              "    }\n",
              "\n",
              "    .dataframe thead th {\n",
              "        text-align: right;\n",
              "    }\n",
              "</style>\n",
              "<table border=\"1\" class=\"dataframe\">\n",
              "  <thead>\n",
              "    <tr style=\"text-align: right;\">\n",
              "      <th></th>\n",
              "      <th>id</th>\n",
              "      <th>Moons</th>\n",
              "      <th>wrythm_Feature_1</th>\n",
              "      <th>wrythm_Feature_2</th>\n",
              "      <th>wrythm_Feature_3</th>\n",
              "      <th>wrythm_Feature_4</th>\n",
              "      <th>wrythm_Feature_5</th>\n",
              "      <th>wrythm_Feature_6</th>\n",
              "      <th>wrythm_Feature_7</th>\n",
              "      <th>wrythm_Feature_8</th>\n",
              "      <th>...</th>\n",
              "      <th>vratios_Feature_108</th>\n",
              "      <th>vratios_Feature_109</th>\n",
              "      <th>vratios_Feature_110</th>\n",
              "      <th>vratios_Feature_111</th>\n",
              "      <th>vratios_Feature_112</th>\n",
              "      <th>vratios_Feature_113</th>\n",
              "      <th>vratios_Feature_114</th>\n",
              "      <th>vratios_Feature_115</th>\n",
              "      <th>vratios_Feature_116</th>\n",
              "      <th>vratios_Feature_117</th>\n",
              "    </tr>\n",
              "  </thead>\n",
              "  <tbody>\n",
              "  </tbody>\n",
              "</table>\n",
              "<p>0 rows × 618 columns</p>\n",
              "</div>\n",
              "      <button class=\"colab-df-convert\" onclick=\"convertToInteractive('df-db814bd5-c193-4985-a7b6-b44d5749170b')\"\n",
              "              title=\"Convert this dataframe to an interactive table.\"\n",
              "              style=\"display:none;\">\n",
              "        \n",
              "  <svg xmlns=\"http://www.w3.org/2000/svg\" height=\"24px\"viewBox=\"0 0 24 24\"\n",
              "       width=\"24px\">\n",
              "    <path d=\"M0 0h24v24H0V0z\" fill=\"none\"/>\n",
              "    <path d=\"M18.56 5.44l.94 2.06.94-2.06 2.06-.94-2.06-.94-.94-2.06-.94 2.06-2.06.94zm-11 1L8.5 8.5l.94-2.06 2.06-.94-2.06-.94L8.5 2.5l-.94 2.06-2.06.94zm10 10l.94 2.06.94-2.06 2.06-.94-2.06-.94-.94-2.06-.94 2.06-2.06.94z\"/><path d=\"M17.41 7.96l-1.37-1.37c-.4-.4-.92-.59-1.43-.59-.52 0-1.04.2-1.43.59L10.3 9.45l-7.72 7.72c-.78.78-.78 2.05 0 2.83L4 21.41c.39.39.9.59 1.41.59.51 0 1.02-.2 1.41-.59l7.78-7.78 2.81-2.81c.8-.78.8-2.07 0-2.86zM5.41 20L4 18.59l7.72-7.72 1.47 1.35L5.41 20z\"/>\n",
              "  </svg>\n",
              "      </button>\n",
              "      \n",
              "  <style>\n",
              "    .colab-df-container {\n",
              "      display:flex;\n",
              "      flex-wrap:wrap;\n",
              "      gap: 12px;\n",
              "    }\n",
              "\n",
              "    .colab-df-convert {\n",
              "      background-color: #E8F0FE;\n",
              "      border: none;\n",
              "      border-radius: 50%;\n",
              "      cursor: pointer;\n",
              "      display: none;\n",
              "      fill: #1967D2;\n",
              "      height: 32px;\n",
              "      padding: 0 0 0 0;\n",
              "      width: 32px;\n",
              "    }\n",
              "\n",
              "    .colab-df-convert:hover {\n",
              "      background-color: #E2EBFA;\n",
              "      box-shadow: 0px 1px 2px rgba(60, 64, 67, 0.3), 0px 1px 3px 1px rgba(60, 64, 67, 0.15);\n",
              "      fill: #174EA6;\n",
              "    }\n",
              "\n",
              "    [theme=dark] .colab-df-convert {\n",
              "      background-color: #3B4455;\n",
              "      fill: #D2E3FC;\n",
              "    }\n",
              "\n",
              "    [theme=dark] .colab-df-convert:hover {\n",
              "      background-color: #434B5C;\n",
              "      box-shadow: 0px 1px 3px 1px rgba(0, 0, 0, 0.15);\n",
              "      filter: drop-shadow(0px 1px 2px rgba(0, 0, 0, 0.3));\n",
              "      fill: #FFFFFF;\n",
              "    }\n",
              "  </style>\n",
              "\n",
              "      <script>\n",
              "        const buttonEl =\n",
              "          document.querySelector('#df-db814bd5-c193-4985-a7b6-b44d5749170b button.colab-df-convert');\n",
              "        buttonEl.style.display =\n",
              "          google.colab.kernel.accessAllowed ? 'block' : 'none';\n",
              "\n",
              "        async function convertToInteractive(key) {\n",
              "          const element = document.querySelector('#df-db814bd5-c193-4985-a7b6-b44d5749170b');\n",
              "          const dataTable =\n",
              "            await google.colab.kernel.invokeFunction('convertToInteractive',\n",
              "                                                     [key], {});\n",
              "          if (!dataTable) return;\n",
              "\n",
              "          const docLinkHtml = 'Like what you see? Visit the ' +\n",
              "            '<a target=\"_blank\" href=https://colab.research.google.com/notebooks/data_table.ipynb>data table notebook</a>'\n",
              "            + ' to learn more about interactive tables.';\n",
              "          element.innerHTML = '';\n",
              "          dataTable['output_type'] = 'display_data';\n",
              "          await google.colab.output.renderOutput(dataTable, element);\n",
              "          const docLink = document.createElement('div');\n",
              "          docLink.innerHTML = docLinkHtml;\n",
              "          element.appendChild(docLink);\n",
              "        }\n",
              "      </script>\n",
              "    </div>\n",
              "  </div>\n",
              "  "
            ]
          },
          "metadata": {},
          "execution_count": 6
        }
      ]
    },
    {
      "cell_type": "markdown",
      "source": [
        "**Observation**\n",
        "\n",
        "* There is no missing values and duplicate values in the dataset."
      ],
      "metadata": {
        "id": "HafLZc5qC7fJ"
      }
    },
    {
      "cell_type": "markdown",
      "source": [
        "#### Target Distribution \n",
        "\n",
        "In this problem, we have 4 targets to make submissions for."
      ],
      "metadata": {
        "id": "OtXtwE-z4cHk"
      }
    },
    {
      "cell_type": "code",
      "source": [
        "target_col = train_targets.columns[train_targets.columns.str.contains('target')]"
      ],
      "metadata": {
        "id": "DzJfQuns4QP2"
      },
      "execution_count": 7,
      "outputs": []
    },
    {
      "cell_type": "code",
      "source": [
        "train_targets[target_col].hist();"
      ],
      "metadata": {
        "colab": {
          "base_uri": "https://localhost:8080/",
          "height": 452
        },
        "id": "yw260IOM4mh7",
        "outputId": "2cdd884d-438e-4b2d-cd11-21f1d59f8da1"
      },
      "execution_count": 8,
      "outputs": [
        {
          "output_type": "display_data",
          "data": {
            "text/plain": [
              "<Figure size 640x480 with 4 Axes>"
            ],
            "image/png": "[encoded data removed]"
          },
          "metadata": {}
        }
      ]
    },
    {
      "cell_type": "markdown",
      "source": [
        "**observation**\n",
        "\n",
        "* The range of the target distribution is from 0-1. "
      ],
      "metadata": {
        "id": "2QZE7wS_8iqT"
      }
    },
    {
      "cell_type": "markdown",
      "source": [
        "#### merge the train data and target by moons and id. "
      ],
      "metadata": {
        "id": "VLZSn4rbA2iD"
      }
    },
    {
      "cell_type": "code",
      "source": [
        "train = pd.merge(train, train_targets, on=['id', 'Moons'], how='inner')"
      ],
      "metadata": {
        "id": "ufAJzqGf494n"
      },
      "execution_count": 9,
      "outputs": []
    },
    {
      "cell_type": "code",
      "source": [
        "print(train.shape)"
      ],
      "metadata": {
        "colab": {
          "base_uri": "https://localhost:8080/"
        },
        "id": "GEAcnnoMBD24",
        "outputId": "17f4f8a1-e184-4639-ecbc-ec49a666ac5d"
      },
      "execution_count": 10,
      "outputs": [
        {
          "output_type": "stream",
          "name": "stdout",
          "text": [
            "(307618, 622)\n"
          ]
        }
      ]
    },
    {
      "cell_type": "markdown",
      "source": [
        "#### Find the unique data that are joined together to make the master dataset."
      ],
      "metadata": {
        "id": "8rZt7G2CXmn9"
      }
    },
    {
      "cell_type": "code",
      "source": [
        "unique_col_name = list(set(pd.DataFrame(train.columns)[0].apply(lambda x:x.split('_')[0])))"
      ],
      "metadata": {
        "id": "dv5zChmzVmsp"
      },
      "execution_count": 11,
      "outputs": []
    },
    {
      "cell_type": "code",
      "source": [
        "print('we have {} unique columns names'.format(len(unique_col_name)))"
      ],
      "metadata": {
        "colab": {
          "base_uri": "https://localhost:8080/"
        },
        "id": "Mjk26RLVYT7C",
        "outputId": "897d9462-45fd-42ee-c639-f111f2d28313"
      },
      "execution_count": 12,
      "outputs": [
        {
          "output_type": "stream",
          "name": "stdout",
          "text": [
            "we have 10 unique columns names\n"
          ]
        }
      ]
    },
    {
      "cell_type": "code",
      "source": [
        "unique_col_name"
      ],
      "metadata": {
        "colab": {
          "base_uri": "https://localhost:8080/"
        },
        "id": "DuIpdpXnYqRb",
        "outputId": "7b329a71-0071-4f36-989b-dfc2a74aeb6d"
      },
      "execution_count": 13,
      "outputs": [
        {
          "output_type": "execute_result",
          "data": {
            "text/plain": [
              "['target',\n",
              " 'Moons',\n",
              " 'ekinetic',\n",
              " 'id',\n",
              " 'gordon',\n",
              " 'wrythm',\n",
              " 'vratios',\n",
              " '3b1-signal',\n",
              " 'dolly',\n",
              " 'cmechanics']"
            ]
          },
          "metadata": {},
          "execution_count": 13
        }
      ]
    },
    {
      "cell_type": "markdown",
      "source": [
        "## Data Visualization\n",
        "\n",
        "we are going to take a glance at the data distribution for each unique data that make the master dataset."
      ],
      "metadata": {
        "id": "agMUBYuLS__W"
      }
    },
    {
      "cell_type": "code",
      "source": [
        "train[['3b1-signal_Feature_1', 'ekinetic_Feature_1', 'gordon_Feature_1', 'vratios_Feature_1', 'dolly_Feature_1', 'wrythm_Feature_1']].hist(bins=10, figsize=(10,10));"
      ],
      "metadata": {
        "colab": {
          "base_uri": "https://localhost:8080/",
          "height": 853
        },
        "id": "oaUdk6myV5u4",
        "outputId": "08021c50-d81e-4acc-fafb-417e46d4b871"
      },
      "execution_count": 14,
      "outputs": [
        {
          "output_type": "display_data",
          "data": {
            "text/plain": [
              "<Figure size 1000x1000 with 6 Axes>"
            ],
            "image/png": "[encoded data removed]"
          },
          "metadata": {}
        }
      ]
    },
    {
      "cell_type": "markdown",
      "source": [
        "**Observation**\n",
        "\n",
        "* The distribution looks the same across all data combined.\n",
        "\n",
        "* All the data point have been standardized.\n",
        "\n",
        "Read more - https://desci.crunchdao.com/projects/crunchdao/feature-engineering"
      ],
      "metadata": {
        "id": "LPRvHNXTaoie"
      }
    },
    {
      "cell_type": "markdown",
      "source": [
        "#### Looking at the moons"
      ],
      "metadata": {
        "id": "OHPQeXR0BvOA"
      }
    },
    {
      "cell_type": "code",
      "source": [
        "train['Moons'].value_counts(normalize=True)"
      ],
      "metadata": {
        "colab": {
          "base_uri": "https://localhost:8080/"
        },
        "id": "XyxBY_46Bxnl",
        "outputId": "a18feb55-a4dd-4ab2-b35b-5377da93e91d"
      },
      "execution_count": 15,
      "outputs": [
        {
          "output_type": "execute_result",
          "data": {
            "text/plain": [
              "106    0.002948\n",
              "109    0.002945\n",
              "108    0.002942\n",
              "111    0.002942\n",
              "107    0.002939\n",
              "         ...   \n",
              "234    0.002633\n",
              "244    0.002630\n",
              "245    0.002610\n",
              "246    0.002597\n",
              "247    0.002597\n",
              "Name: Moons, Length: 358, dtype: float64"
            ]
          },
          "metadata": {},
          "execution_count": 15
        }
      ]
    },
    {
      "cell_type": "code",
      "source": [
        "test['Moons'].value_counts(normalize=True)"
      ],
      "metadata": {
        "colab": {
          "base_uri": "https://localhost:8080/"
        },
        "id": "__kHyaIHBxk2",
        "outputId": "b53b9140-bc71-4199-a27e-7ea80c700ab9"
      },
      "execution_count": 16,
      "outputs": [
        {
          "output_type": "execute_result",
          "data": {
            "text/plain": [
              "369    0.077940\n",
              "370    0.077753\n",
              "358    0.077565\n",
              "359    0.077471\n",
              "360    0.077284\n",
              "365    0.077284\n",
              "366    0.077284\n",
              "367    0.077284\n",
              "368    0.077096\n",
              "363    0.075877\n",
              "361    0.075783\n",
              "362    0.075689\n",
              "364    0.075689\n",
              "Name: Moons, dtype: float64"
            ]
          },
          "metadata": {},
          "execution_count": 16
        }
      ]
    },
    {
      "cell_type": "code",
      "source": [
        "print(train['Moons'].nunique())\n",
        "print(test['Moons'].nunique())"
      ],
      "metadata": {
        "colab": {
          "base_uri": "https://localhost:8080/"
        },
        "id": "XbYyw6CFCNUD",
        "outputId": "5a7d2605-e0ac-4eb7-fa56-2a3d25fead5e"
      },
      "execution_count": 17,
      "outputs": [
        {
          "output_type": "stream",
          "name": "stdout",
          "text": [
            "358\n",
            "13\n"
          ]
        }
      ]
    },
    {
      "cell_type": "markdown",
      "source": [
        "**Observation**\n",
        "\n",
        "* we observe that there is no much difference by frequency count of each **Moons**\n"
      ],
      "metadata": {
        "id": "7PHGCfZgCB9f"
      }
    },
    {
      "cell_type": "markdown",
      "source": [
        "### Look at the top 15 features correlation with each target."
      ],
      "metadata": {
        "id": "k1WrbyZNBM6B"
      }
    },
    {
      "cell_type": "code",
      "source": [
        "tar_w_corr = train.corr()['target_w'].reset_index()\n",
        "tar_r_corr = train.corr()['target_r'].reset_index()\n",
        "tar_g_corr = train.corr()['target_g'].reset_index()\n",
        "tar_b_corr = train.corr()['target_b'].reset_index()"
      ],
      "metadata": {
        "id": "i_HqIV17BJvS"
      },
      "execution_count": 19,
      "outputs": []
    },
    {
      "cell_type": "code",
      "source": [
        "tar_w_corr['target_w'] = abs(tar_w_corr['target_w'])\n",
        "tar_r_corr['target_r'] = abs(tar_r_corr['target_r'])\n",
        "tar_g_corr['target_g'] = abs(tar_g_corr['target_g'])\n",
        "tar_b_corr['target_b'] = abs(tar_b_corr['target_b'])"
      ],
      "metadata": {
        "id": "qTyZ5VihJbBA"
      },
      "execution_count": 20,
      "outputs": []
    },
    {
      "cell_type": "code",
      "source": [
        "tar_w_corr.sort_values(by='target_w', ascending=False)[4:19].set_index('index').plot(kind='bar', title='Target_w correlation');"
      ],
      "metadata": {
        "colab": {
          "base_uri": "https://localhost:8080/",
          "height": 624
        },
        "id": "5weJ4qg9Rt2W",
        "outputId": "56a7e071-5be9-45eb-9c94-ed4bf75c9b98"
      },
      "execution_count": 21,
      "outputs": [
        {
          "output_type": "display_data",
          "data": {
            "text/plain": [
              "<Figure size 640x480 with 1 Axes>"
            ],
            "image/png": "[encoded data removed]"
          },
          "metadata": {}
        }
      ]
    },
    {
      "cell_type": "code",
      "source": [
        "tar_r_corr.sort_values(by='target_r', ascending=False)[4:19].set_index('index').plot(kind='bar', title='Target_r correlation');"
      ],
      "metadata": {
        "colab": {
          "base_uri": "https://localhost:8080/",
          "height": 624
        },
        "id": "Fr-9idnvI_SB",
        "outputId": "6a2573a0-3fc9-4dda-e17c-7797fe640d69"
      },
      "execution_count": 22,
      "outputs": [
        {
          "output_type": "display_data",
          "data": {
            "text/plain": [
              "<Figure size 640x480 with 1 Axes>"
            ],
            "image/png": "[encoded data removed]"
          },
          "metadata": {}
        }
      ]
    },
    {
      "cell_type": "code",
      "source": [
        "tar_g_corr.sort_values(by='target_g', ascending=False)[4:19].set_index('index').plot(kind='bar', title='Target_g correlation');"
      ],
      "metadata": {
        "colab": {
          "base_uri": "https://localhost:8080/",
          "height": 624
        },
        "id": "HAd5ZN1oKEwS",
        "outputId": "2b2cb588-1a07-4822-8d78-9fb528507723"
      },
      "execution_count": 23,
      "outputs": [
        {
          "output_type": "display_data",
          "data": {
            "text/plain": [
              "<Figure size 640x480 with 1 Axes>"
            ],
            "image/png": "[encoded data removed]"
          },
          "metadata": {}
        }
      ]
    },
    {
      "cell_type": "code",
      "source": [
        "tar_b_corr.sort_values(by='target_b', ascending=False)[4:19].set_index('index').plot(kind='bar', title='Target_b correlation');"
      ],
      "metadata": {
        "colab": {
          "base_uri": "https://localhost:8080/",
          "height": 604
        },
        "id": "M-PUnJRJOhPH",
        "outputId": "15cc4abe-a916-4efd-acdd-8fc0e224af0a"
      },
      "execution_count": 24,
      "outputs": [
        {
          "output_type": "display_data",
          "data": {
            "text/plain": [
              "<Figure size 640x480 with 1 Axes>"
            ],
            "image/png": "[encoded data removed]"
          },
          "metadata": {}
        }
      ]
    },
    {
      "cell_type": "markdown",
      "source": [
        "**Observation**\n",
        "\n",
        "* Target w and Target r top 15 features contain mostly ekinetic and cmechanics data.\n",
        "\n",
        "* Target g and Target b top 15 features mostly consists of wrythm data."
      ],
      "metadata": {
        "id": "60b5laa8O5Ub"
      }
    },
    {
      "cell_type": "markdown",
      "source": [
        "## Create submission format."
      ],
      "metadata": {
        "id": "L-qe8l6bbnhu"
      }
    },
    {
      "cell_type": "code",
      "source": [
        "submission = test[['id', 'Moons']]"
      ],
      "metadata": {
        "id": "hM6sHHdtOqlV"
      },
      "execution_count": 18,
      "outputs": []
    },
    {
      "cell_type": "code",
      "source": [
        "submission['target_w'] = np.nan\n",
        "submission['target_r'] = np.nan\n",
        "submission['target_g'] = np.nan\n",
        "submission['target_b'] = np.nan"
      ],
      "metadata": {
        "id": "up52mTuBbpSP"
      },
      "execution_count": null,
      "outputs": []
    },
    {
      "cell_type": "code",
      "source": [
        "submission"
      ],
      "metadata": {
        "colab": {
          "base_uri": "https://localhost:8080/",
          "height": 424
        },
        "id": "xd8-A__3byev",
        "outputId": "7e37b331-1f7d-4b12-c9e2-9a3a41819b54"
      },
      "execution_count": 20,
      "outputs": [
        {
          "output_type": "execute_result",
          "data": {
            "text/plain": [
              "           id  Moons  target_w  target_r  target_g  target_b\n",
              "0      111397    358       NaN       NaN       NaN       NaN\n",
              "1      111329    358       NaN       NaN       NaN       NaN\n",
              "2      223798    358       NaN       NaN       NaN       NaN\n",
              "3      178816    358       NaN       NaN       NaN       NaN\n",
              "4      297884    358       NaN       NaN       NaN       NaN\n",
              "...       ...    ...       ...       ...       ...       ...\n",
              "10657  167175    370       NaN       NaN       NaN       NaN\n",
              "10658  148159    370       NaN       NaN       NaN       NaN\n",
              "10659  153147    370       NaN       NaN       NaN       NaN\n",
              "10660   45199    370       NaN       NaN       NaN       NaN\n",
              "10661   12947    370       NaN       NaN       NaN       NaN\n",
              "\n",
              "[10662 rows x 6 columns]"
            ],
            "text/html": [
              "\n",
              "  <div id=\"df-d86be512-f486-4b93-af8e-6aa764239411\">\n",
              "    <div class=\"colab-df-container\">\n",
              "      <div>\n",
              "<style scoped>\n",
              "    .dataframe tbody tr th:only-of-type {\n",
              "        vertical-align: middle;\n",
              "    }\n",
              "\n",
              "    .dataframe tbody tr th {\n",
              "        vertical-align: top;\n",
              "    }\n",
              "\n",
              "    .dataframe thead th {\n",
              "        text-align: right;\n",
              "    }\n",
              "</style>\n",
              "<table border=\"1\" class=\"dataframe\">\n",
              "  <thead>\n",
              "    <tr style=\"text-align: right;\">\n",
              "      <th></th>\n",
              "      <th>id</th>\n",
              "      <th>Moons</th>\n",
              "      <th>target_w</th>\n",
              "      <th>target_r</th>\n",
              "      <th>target_g</th>\n",
              "      <th>target_b</th>\n",
              "    </tr>\n",
              "  </thead>\n",
              "  <tbody>\n",
              "    <tr>\n",
              "      <th>0</th>\n",
              "      <td>111397</td>\n",
              "      <td>358</td>\n",
              "      <td>NaN</td>\n",
              "      <td>NaN</td>\n",
              "      <td>NaN</td>\n",
              "      <td>NaN</td>\n",
              "    </tr>\n",
              "    <tr>\n",
              "      <th>1</th>\n",
              "      <td>111329</td>\n",
              "      <td>358</td>\n",
              "      <td>NaN</td>\n",
              "      <td>NaN</td>\n",
              "      <td>NaN</td>\n",
              "      <td>NaN</td>\n",
              "    </tr>\n",
              "    <tr>\n",
              "      <th>2</th>\n",
              "      <td>223798</td>\n",
              "      <td>358</td>\n",
              "      <td>NaN</td>\n",
              "      <td>NaN</td>\n",
              "      <td>NaN</td>\n",
              "      <td>NaN</td>\n",
              "    </tr>\n",
              "    <tr>\n",
              "      <th>3</th>\n",
              "      <td>178816</td>\n",
              "      <td>358</td>\n",
              "      <td>NaN</td>\n",
              "      <td>NaN</td>\n",
              "      <td>NaN</td>\n",
              "      <td>NaN</td>\n",
              "    </tr>\n",
              "    <tr>\n",
              "      <th>4</th>\n",
              "      <td>297884</td>\n",
              "      <td>358</td>\n",
              "      <td>NaN</td>\n",
              "      <td>NaN</td>\n",
              "      <td>NaN</td>\n",
              "      <td>NaN</td>\n",
              "    </tr>\n",
              "    <tr>\n",
              "      <th>...</th>\n",
              "      <td>...</td>\n",
              "      <td>...</td>\n",
              "      <td>...</td>\n",
              "      <td>...</td>\n",
              "      <td>...</td>\n",
              "      <td>...</td>\n",
              "    </tr>\n",
              "    <tr>\n",
              "      <th>10657</th>\n",
              "      <td>167175</td>\n",
              "      <td>370</td>\n",
              "      <td>NaN</td>\n",
              "      <td>NaN</td>\n",
              "      <td>NaN</td>\n",
              "      <td>NaN</td>\n",
              "    </tr>\n",
              "    <tr>\n",
              "      <th>10658</th>\n",
              "      <td>148159</td>\n",
              "      <td>370</td>\n",
              "      <td>NaN</td>\n",
              "      <td>NaN</td>\n",
              "      <td>NaN</td>\n",
              "      <td>NaN</td>\n",
              "    </tr>\n",
              "    <tr>\n",
              "      <th>10659</th>\n",
              "      <td>153147</td>\n",
              "      <td>370</td>\n",
              "      <td>NaN</td>\n",
              "      <td>NaN</td>\n",
              "      <td>NaN</td>\n",
              "      <td>NaN</td>\n",
              "    </tr>\n",
              "    <tr>\n",
              "      <th>10660</th>\n",
              "      <td>45199</td>\n",
              "      <td>370</td>\n",
              "      <td>NaN</td>\n",
              "      <td>NaN</td>\n",
              "      <td>NaN</td>\n",
              "      <td>NaN</td>\n",
              "    </tr>\n",
              "    <tr>\n",
              "      <th>10661</th>\n",
              "      <td>12947</td>\n",
              "      <td>370</td>\n",
              "      <td>NaN</td>\n",
              "      <td>NaN</td>\n",
              "      <td>NaN</td>\n",
              "      <td>NaN</td>\n",
              "    </tr>\n",
              "  </tbody>\n",
              "</table>\n",
              "<p>10662 rows × 6 columns</p>\n",
              "</div>\n",
              "      <button class=\"colab-df-convert\" onclick=\"convertToInteractive('df-d86be512-f486-4b93-af8e-6aa764239411')\"\n",
              "              title=\"Convert this dataframe to an interactive table.\"\n",
              "              style=\"display:none;\">\n",
              "        \n",
              "  <svg xmlns=\"http://www.w3.org/2000/svg\" height=\"24px\"viewBox=\"0 0 24 24\"\n",
              "       width=\"24px\">\n",
              "    <path d=\"M0 0h24v24H0V0z\" fill=\"none\"/>\n",
              "    <path d=\"M18.56 5.44l.94 2.06.94-2.06 2.06-.94-2.06-.94-.94-2.06-.94 2.06-2.06.94zm-11 1L8.5 8.5l.94-2.06 2.06-.94-2.06-.94L8.5 2.5l-.94 2.06-2.06.94zm10 10l.94 2.06.94-2.06 2.06-.94-2.06-.94-.94-2.06-.94 2.06-2.06.94z\"/><path d=\"M17.41 7.96l-1.37-1.37c-.4-.4-.92-.59-1.43-.59-.52 0-1.04.2-1.43.59L10.3 9.45l-7.72 7.72c-.78.78-.78 2.05 0 2.83L4 21.41c.39.39.9.59 1.41.59.51 0 1.02-.2 1.41-.59l7.78-7.78 2.81-2.81c.8-.78.8-2.07 0-2.86zM5.41 20L4 18.59l7.72-7.72 1.47 1.35L5.41 20z\"/>\n",
              "  </svg>\n",
              "      </button>\n",
              "      \n",
              "  <style>\n",
              "    .colab-df-container {\n",
              "      display:flex;\n",
              "      flex-wrap:wrap;\n",
              "      gap: 12px;\n",
              "    }\n",
              "\n",
              "    .colab-df-convert {\n",
              "      background-color: #E8F0FE;\n",
              "      border: none;\n",
              "      border-radius: 50%;\n",
              "      cursor: pointer;\n",
              "      display: none;\n",
              "      fill: #1967D2;\n",
              "      height: 32px;\n",
              "      padding: 0 0 0 0;\n",
              "      width: 32px;\n",
              "    }\n",
              "\n",
              "    .colab-df-convert:hover {\n",
              "      background-color: #E2EBFA;\n",
              "      box-shadow: 0px 1px 2px rgba(60, 64, 67, 0.3), 0px 1px 3px 1px rgba(60, 64, 67, 0.15);\n",
              "      fill: #174EA6;\n",
              "    }\n",
              "\n",
              "    [theme=dark] .colab-df-convert {\n",
              "      background-color: #3B4455;\n",
              "      fill: #D2E3FC;\n",
              "    }\n",
              "\n",
              "    [theme=dark] .colab-df-convert:hover {\n",
              "      background-color: #434B5C;\n",
              "      box-shadow: 0px 1px 3px 1px rgba(0, 0, 0, 0.15);\n",
              "      filter: drop-shadow(0px 1px 2px rgba(0, 0, 0, 0.3));\n",
              "      fill: #FFFFFF;\n",
              "    }\n",
              "  </style>\n",
              "\n",
              "      <script>\n",
              "        const buttonEl =\n",
              "          document.querySelector('#df-d86be512-f486-4b93-af8e-6aa764239411 button.colab-df-convert');\n",
              "        buttonEl.style.display =\n",
              "          google.colab.kernel.accessAllowed ? 'block' : 'none';\n",
              "\n",
              "        async function convertToInteractive(key) {\n",
              "          const element = document.querySelector('#df-d86be512-f486-4b93-af8e-6aa764239411');\n",
              "          const dataTable =\n",
              "            await google.colab.kernel.invokeFunction('convertToInteractive',\n",
              "                                                     [key], {});\n",
              "          if (!dataTable) return;\n",
              "\n",
              "          const docLinkHtml = 'Like what you see? Visit the ' +\n",
              "            '<a target=\"_blank\" href=https://colab.research.google.com/notebooks/data_table.ipynb>data table notebook</a>'\n",
              "            + ' to learn more about interactive tables.';\n",
              "          element.innerHTML = '';\n",
              "          dataTable['output_type'] = 'display_data';\n",
              "          await google.colab.output.renderOutput(dataTable, element);\n",
              "          const docLink = document.createElement('div');\n",
              "          docLink.innerHTML = docLinkHtml;\n",
              "          element.appendChild(docLink);\n",
              "        }\n",
              "      </script>\n",
              "    </div>\n",
              "  </div>\n",
              "  "
            ]
          },
          "metadata": {},
          "execution_count": 20
        }
      ]
    },
    {
      "cell_type": "code",
      "source": [
        "target = train[train.columns[train.columns.str.contains('target')]]"
      ],
      "metadata": {
        "id": "FTKhxdcWcrFx"
      },
      "execution_count": 21,
      "outputs": []
    },
    {
      "cell_type": "markdown",
      "source": [
        "## Cross Validation scheme\n",
        "\n",
        "* Cross Validation scheme - In this notebook, we use one-holdout cross validation without taking randomness into consideration because the **Moons** have Time Series distribution nature."
      ],
      "metadata": {
        "id": "FHJcu11McSV9"
      }
    },
    {
      "cell_type": "code",
      "source": [
        "train_data = train[train['Moons'] <=340].reset_index(drop=True)\n",
        "validation_data = train[train['Moons'] >340].reset_index(drop=True)"
      ],
      "metadata": {
        "id": "nEHnF6-NcpaH"
      },
      "execution_count": 22,
      "outputs": []
    },
    {
      "cell_type": "code",
      "source": [
        "train_data = train_data.drop(['id', 'Moons'], axis=1)\n",
        "validation_data = validation_data.drop(['id', 'Moons'], axis=1)\n",
        "test_data = test.drop(['id', 'Moons'], axis=1)"
      ],
      "metadata": {
        "id": "ZI-WrgTMMly4"
      },
      "execution_count": 23,
      "outputs": []
    },
    {
      "cell_type": "code",
      "source": [
        "target_col = train.columns[train.columns.str.contains('target')]"
      ],
      "metadata": {
        "id": "YC91zT8AFjJI"
      },
      "execution_count": 24,
      "outputs": []
    },
    {
      "cell_type": "code",
      "source": [
        "X_train = train_data.drop(target_col, axis=1)\n",
        "y_train = train_data[target_col]\n",
        "X_valid = validation_data.drop(target_col, axis=1)\n",
        "y_valid = validation_data[target_col]"
      ],
      "metadata": {
        "id": "v8EUYcgrepHl"
      },
      "execution_count": 25,
      "outputs": []
    },
    {
      "cell_type": "code",
      "source": [
        "print(X_train.shape)\n",
        "print(X_valid.shape)\n",
        "print(y_train.shape)\n",
        "print(y_valid.shape)"
      ],
      "metadata": {
        "colab": {
          "base_uri": "https://localhost:8080/"
        },
        "id": "5TSqSVRSFYvw",
        "outputId": "4917d690-8d18-494c-ee6a-da6c2b65eedb"
      },
      "execution_count": 26,
      "outputs": [
        {
          "output_type": "stream",
          "name": "stdout",
          "text": [
            "(293592, 616)\n",
            "(14026, 616)\n",
            "(293592, 4)\n",
            "(14026, 4)\n"
          ]
        }
      ]
    },
    {
      "cell_type": "markdown",
      "source": [
        "## Validation score check\n",
        "\n",
        "The performance of the model is tested with spearman correlation. Spearman correlation ranges from 0-1, the closer to 1 the better the model.\n",
        "\n",
        "The model performance will be represented by percentage here."
      ],
      "metadata": {
        "id": "jf3y87qKGOLS"
      }
    },
    {
      "cell_type": "code",
      "source": [
        "def scorer(y_valid, y_pred):\n",
        "    score = (stats.spearmanr(y_valid, y_pred))[0].round(4)\n",
        "    print('Score as calculated for the leader board {}%'.format(score *100))"
      ],
      "metadata": {
        "id": "2OEAL8cmGGlE"
      },
      "execution_count": 27,
      "outputs": []
    },
    {
      "cell_type": "markdown",
      "source": [
        "## Machine Learning Model\n",
        "\n",
        "LightGBM, short for light gradient-boosting machine, is a free and open-source distributed gradient-boosting framework for machine learning, originally developed by Microsoft. It is based on decision tree algorithms and used for ranking, classification and other machine learning tasks.\n",
        "\n",
        "#### Benefit of LightGbm\n",
        "\n",
        "1. Faster training speed and higher efficiency.\n",
        "\n",
        "2. Better Accuracy"
      ],
      "metadata": {
        "id": "u4MnjG81Gk5B"
      }
    },
    {
      "cell_type": "code",
      "source": [
        "def lgb_model(X_train, y_train, X_valid, y_valid):\n",
        "    model = LGBMRegressor(num_leaves=256)\n",
        "    model.fit(X_train, y_train)\n",
        "    pred = model.predict(X_valid)\n",
        "    scorer(y_valid, pred)\n",
        "\n",
        "    return model"
      ],
      "metadata": {
        "id": "XM1Zyta3GUvW"
      },
      "execution_count": 28,
      "outputs": []
    },
    {
      "cell_type": "code",
      "source": [
        "model_target_w = lgb_model(X_train, y_train['target_w'],X_valid, y_valid['target_w'])\n",
        "model_target_r = lgb_model(X_train, y_train['target_r'],X_valid, y_valid['target_r'])\n",
        "model_target_g = lgb_model(X_train, y_train['target_g'],X_valid, y_valid['target_g'])\n",
        "model_target_b = lgb_model(X_train, y_train['target_b'],X_valid, y_valid['target_b'])"
      ],
      "metadata": {
        "colab": {
          "base_uri": "https://localhost:8080/"
        },
        "id": "hXgJiV4GHmCq",
        "outputId": "cd95fbf9-5638-4977-e37e-6bb46612b45b"
      },
      "execution_count": 29,
      "outputs": [
        {
          "output_type": "stream",
          "name": "stdout",
          "text": [
            "Score as calculated for the leader board 0.15%\n",
            "Score as calculated for the leader board 7.969999999999999%\n",
            "Score as calculated for the leader board 13.209999999999999%\n",
            "Score as calculated for the leader board 20.48%\n"
          ]
        }
      ]
    },
    {
      "cell_type": "markdown",
      "source": [
        "## Making submission on the test set."
      ],
      "metadata": {
        "id": "g73GxJjZMJe-"
      }
    },
    {
      "cell_type": "code",
      "source": [
        "submission['target_w'] = model_target_w.predict(test_data)\n",
        "submission['target_r'] = model_target_r.predict(test_data)\n",
        "submission['target_g'] = model_target_g.predict(test_data)\n",
        "submission['target_b'] = model_target_b.predict(test_data)"
      ],
      "metadata": {
        "id": "c0PqAoMUH63a"
      },
      "execution_count": null,
      "outputs": []
    },
    {
      "cell_type": "code",
      "source": [
        "submission"
      ],
      "metadata": {
        "colab": {
          "base_uri": "https://localhost:8080/",
          "height": 424
        },
        "id": "lltJ8RAKQIu6",
        "outputId": "2ee2bd92-3a26-4405-8963-b3f1a6dbdee4"
      },
      "execution_count": 31,
      "outputs": [
        {
          "output_type": "execute_result",
          "data": {
            "text/plain": [
              "           id  Moons  target_w  target_r  target_g  target_b\n",
              "0      111397    358  0.502057  0.522590  0.473905  0.405732\n",
              "1      111329    358  0.513633  0.517929  0.547040  0.519663\n",
              "2      223798    358  0.468588  0.478488  0.463512  0.457000\n",
              "3      178816    358  0.506720  0.562631  0.541524  0.567549\n",
              "4      297884    358  0.489899  0.490387  0.506642  0.463841\n",
              "...       ...    ...       ...       ...       ...       ...\n",
              "10657  167175    370  0.504756  0.498014  0.536910  0.496509\n",
              "10658  148159    370  0.494760  0.488658  0.481284  0.476039\n",
              "10659  153147    370  0.510503  0.485316  0.511216  0.471429\n",
              "10660   45199    370  0.494113  0.530823  0.583257  0.509571\n",
              "10661   12947    370  0.503092  0.516563  0.534637  0.501987\n",
              "\n",
              "[10662 rows x 6 columns]"
            ],
            "text/html": [
              "\n",
              "  <div id=\"df-7335d6fc-29bf-46d4-ba68-f3d31fe6d549\">\n",
              "    <div class=\"colab-df-container\">\n",
              "      <div>\n",
              "<style scoped>\n",
              "    .dataframe tbody tr th:only-of-type {\n",
              "        vertical-align: middle;\n",
              "    }\n",
              "\n",
              "    .dataframe tbody tr th {\n",
              "        vertical-align: top;\n",
              "    }\n",
              "\n",
              "    .dataframe thead th {\n",
              "        text-align: right;\n",
              "    }\n",
              "</style>\n",
              "<table border=\"1\" class=\"dataframe\">\n",
              "  <thead>\n",
              "    <tr style=\"text-align: right;\">\n",
              "      <th></th>\n",
              "      <th>id</th>\n",
              "      <th>Moons</th>\n",
              "      <th>target_w</th>\n",
              "      <th>target_r</th>\n",
              "      <th>target_g</th>\n",
              "      <th>target_b</th>\n",
              "    </tr>\n",
              "  </thead>\n",
              "  <tbody>\n",
              "    <tr>\n",
              "      <th>0</th>\n",
              "      <td>111397</td>\n",
              "      <td>358</td>\n",
              "      <td>0.502057</td>\n",
              "      <td>0.522590</td>\n",
              "      <td>0.473905</td>\n",
              "      <td>0.405732</td>\n",
              "    </tr>\n",
              "    <tr>\n",
              "      <th>1</th>\n",
              "      <td>111329</td>\n",
              "      <td>358</td>\n",
              "      <td>0.513633</td>\n",
              "      <td>0.517929</td>\n",
              "      <td>0.547040</td>\n",
              "      <td>0.519663</td>\n",
              "    </tr>\n",
              "    <tr>\n",
              "      <th>2</th>\n",
              "      <td>223798</td>\n",
              "      <td>358</td>\n",
              "      <td>0.468588</td>\n",
              "      <td>0.478488</td>\n",
              "      <td>0.463512</td>\n",
              "      <td>0.457000</td>\n",
              "    </tr>\n",
              "    <tr>\n",
              "      <th>3</th>\n",
              "      <td>178816</td>\n",
              "      <td>358</td>\n",
              "      <td>0.506720</td>\n",
              "      <td>0.562631</td>\n",
              "      <td>0.541524</td>\n",
              "      <td>0.567549</td>\n",
              "    </tr>\n",
              "    <tr>\n",
              "      <th>4</th>\n",
              "      <td>297884</td>\n",
              "      <td>358</td>\n",
              "      <td>0.489899</td>\n",
              "      <td>0.490387</td>\n",
              "      <td>0.506642</td>\n",
              "      <td>0.463841</td>\n",
              "    </tr>\n",
              "    <tr>\n",
              "      <th>...</th>\n",
              "      <td>...</td>\n",
              "      <td>...</td>\n",
              "      <td>...</td>\n",
              "      <td>...</td>\n",
              "      <td>...</td>\n",
              "      <td>...</td>\n",
              "    </tr>\n",
              "    <tr>\n",
              "      <th>10657</th>\n",
              "      <td>167175</td>\n",
              "      <td>370</td>\n",
              "      <td>0.504756</td>\n",
              "      <td>0.498014</td>\n",
              "      <td>0.536910</td>\n",
              "      <td>0.496509</td>\n",
              "    </tr>\n",
              "    <tr>\n",
              "      <th>10658</th>\n",
              "      <td>148159</td>\n",
              "      <td>370</td>\n",
              "      <td>0.494760</td>\n",
              "      <td>0.488658</td>\n",
              "      <td>0.481284</td>\n",
              "      <td>0.476039</td>\n",
              "    </tr>\n",
              "    <tr>\n",
              "      <th>10659</th>\n",
              "      <td>153147</td>\n",
              "      <td>370</td>\n",
              "      <td>0.510503</td>\n",
              "      <td>0.485316</td>\n",
              "      <td>0.511216</td>\n",
              "      <td>0.471429</td>\n",
              "    </tr>\n",
              "    <tr>\n",
              "      <th>10660</th>\n",
              "      <td>45199</td>\n",
              "      <td>370</td>\n",
              "      <td>0.494113</td>\n",
              "      <td>0.530823</td>\n",
              "      <td>0.583257</td>\n",
              "      <td>0.509571</td>\n",
              "    </tr>\n",
              "    <tr>\n",
              "      <th>10661</th>\n",
              "      <td>12947</td>\n",
              "      <td>370</td>\n",
              "      <td>0.503092</td>\n",
              "      <td>0.516563</td>\n",
              "      <td>0.534637</td>\n",
              "      <td>0.501987</td>\n",
              "    </tr>\n",
              "  </tbody>\n",
              "</table>\n",
              "<p>10662 rows × 6 columns</p>\n",
              "</div>\n",
              "      <button class=\"colab-df-convert\" onclick=\"convertToInteractive('df-7335d6fc-29bf-46d4-ba68-f3d31fe6d549')\"\n",
              "              title=\"Convert this dataframe to an interactive table.\"\n",
              "              style=\"display:none;\">\n",
              "        \n",
              "  <svg xmlns=\"http://www.w3.org/2000/svg\" height=\"24px\"viewBox=\"0 0 24 24\"\n",
              "       width=\"24px\">\n",
              "    <path d=\"M0 0h24v24H0V0z\" fill=\"none\"/>\n",
              "    <path d=\"M18.56 5.44l.94 2.06.94-2.06 2.06-.94-2.06-.94-.94-2.06-.94 2.06-2.06.94zm-11 1L8.5 8.5l.94-2.06 2.06-.94-2.06-.94L8.5 2.5l-.94 2.06-2.06.94zm10 10l.94 2.06.94-2.06 2.06-.94-2.06-.94-.94-2.06-.94 2.06-2.06.94z\"/><path d=\"M17.41 7.96l-1.37-1.37c-.4-.4-.92-.59-1.43-.59-.52 0-1.04.2-1.43.59L10.3 9.45l-7.72 7.72c-.78.78-.78 2.05 0 2.83L4 21.41c.39.39.9.59 1.41.59.51 0 1.02-.2 1.41-.59l7.78-7.78 2.81-2.81c.8-.78.8-2.07 0-2.86zM5.41 20L4 18.59l7.72-7.72 1.47 1.35L5.41 20z\"/>\n",
              "  </svg>\n",
              "      </button>\n",
              "      \n",
              "  <style>\n",
              "    .colab-df-container {\n",
              "      display:flex;\n",
              "      flex-wrap:wrap;\n",
              "      gap: 12px;\n",
              "    }\n",
              "\n",
              "    .colab-df-convert {\n",
              "      background-color: #E8F0FE;\n",
              "      border: none;\n",
              "      border-radius: 50%;\n",
              "      cursor: pointer;\n",
              "      display: none;\n",
              "      fill: #1967D2;\n",
              "      height: 32px;\n",
              "      padding: 0 0 0 0;\n",
              "      width: 32px;\n",
              "    }\n",
              "\n",
              "    .colab-df-convert:hover {\n",
              "      background-color: #E2EBFA;\n",
              "      box-shadow: 0px 1px 2px rgba(60, 64, 67, 0.3), 0px 1px 3px 1px rgba(60, 64, 67, 0.15);\n",
              "      fill: #174EA6;\n",
              "    }\n",
              "\n",
              "    [theme=dark] .colab-df-convert {\n",
              "      background-color: #3B4455;\n",
              "      fill: #D2E3FC;\n",
              "    }\n",
              "\n",
              "    [theme=dark] .colab-df-convert:hover {\n",
              "      background-color: #434B5C;\n",
              "      box-shadow: 0px 1px 3px 1px rgba(0, 0, 0, 0.15);\n",
              "      filter: drop-shadow(0px 1px 2px rgba(0, 0, 0, 0.3));\n",
              "      fill: #FFFFFF;\n",
              "    }\n",
              "  </style>\n",
              "\n",
              "      <script>\n",
              "        const buttonEl =\n",
              "          document.querySelector('#df-7335d6fc-29bf-46d4-ba68-f3d31fe6d549 button.colab-df-convert');\n",
              "        buttonEl.style.display =\n",
              "          google.colab.kernel.accessAllowed ? 'block' : 'none';\n",
              "\n",
              "        async function convertToInteractive(key) {\n",
              "          const element = document.querySelector('#df-7335d6fc-29bf-46d4-ba68-f3d31fe6d549');\n",
              "          const dataTable =\n",
              "            await google.colab.kernel.invokeFunction('convertToInteractive',\n",
              "                                                     [key], {});\n",
              "          if (!dataTable) return;\n",
              "\n",
              "          const docLinkHtml = 'Like what you see? Visit the ' +\n",
              "            '<a target=\"_blank\" href=https://colab.research.google.com/notebooks/data_table.ipynb>data table notebook</a>'\n",
              "            + ' to learn more about interactive tables.';\n",
              "          element.innerHTML = '';\n",
              "          dataTable['output_type'] = 'display_data';\n",
              "          await google.colab.output.renderOutput(dataTable, element);\n",
              "          const docLink = document.createElement('div');\n",
              "          docLink.innerHTML = docLinkHtml;\n",
              "          element.appendChild(docLink);\n",
              "        }\n",
              "      </script>\n",
              "    </div>\n",
              "  </div>\n",
              "  "
            ]
          },
          "metadata": {},
          "execution_count": 31
        }
      ]
    },
    {
      "cell_type": "markdown",
      "source": [
        "## Submit Prediction"
      ],
      "metadata": {
        "id": "Uf7tT7CaPafb"
      }
    },
    {
      "cell_type": "code",
      "source": [
        "submission.to_csv('submission.csv', index=False)"
      ],
      "metadata": {
        "id": "fNdImtydPhV3"
      },
      "execution_count": 32,
      "outputs": []
    },
    {
      "cell_type": "markdown",
      "source": [
        "## Final Note\n",
        "\n",
        "1. Try to join CrunchDao.\n",
        "\n",
        "2. Try different machine learning models for each target.\n",
        "\n",
        "3. For now on my side Lightgbm is performing well on the livescore leaderboard."
      ],
      "metadata": {
        "id": "Ex8lHK4gQ55I"
      }
    },
    {
      "cell_type": "code",
      "source": [],
      "metadata": {
        "id": "kWjQ3K8lQzNT"
      },
      "execution_count": null,
      "outputs": []
    }
  ]
}